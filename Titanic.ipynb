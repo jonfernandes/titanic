{
 "cells": [
  {
   "cell_type": "markdown",
   "metadata": {},
   "source": [
    "# 3 Pandas tricks every Data Scientist should know\n",
    "\n",
    "If you are new to the world of data science, Python's Pandas libraries are some of the best tools for quick data analysis. Pandas are built on Numpy, another popular Python libary. The purpose of this tutorial is to provide 3 tips and tricks with plenty of practice examples that should be part of your tool kit as a Data Scientist. \n",
    "\n",
    "You will use data from one of the most infamous shipwrecks, the sinking of the RMS Titanic. You've almost certainly heard stories about the sinking of the Titanic in 1912 when it hit an iceberg on its maiden voyage. Astonishingly, there were not enough lifeboats available for all the passengers. This tragic tale got even more interesting and personal when I found out that one of my friend's great-grandfather was on the Titanic. It get's worse - he was the helmsman! Two facts that most people seem to remember are.\n",
    "1. The women were given preference to the lifeboats over the men and as a result many more survived.\n",
    "2. Those in first class were given access to the lifeboats over those in other classes.\n",
    "\n",
    "In this tutorial you will have access to a subset of the data and confirm these facts for yourself. \n",
    "\n",
    "<img src=\"titanic.JPG\">\n",
    "\n",
    "<i>By Unknown photographer, photo taken on April 11, 1912 - Cobh Heritage Centre, Ireland, <a href=\"http://www.cobhheritage.com/welcome/cobh-heritage-centre/\">http://www.cobhheritage.com/welcome/cobh-heritage-centre/</a></i>\n",
    "\n",
    "The Kaggle team have generously provided two data sets to perform some machine learning tasks. (https://www.kaggle.com/c/titanic/data) For the purposes of this tutorial we will only use one of them and so we will only work with a partial dataset for the passenger list on the Titanic.\n",
    "\n",
    "Let's get started!"
   ]
  },
  {
   "cell_type": "code",
   "execution_count": 2,
   "metadata": {
    "collapsed": true
   },
   "outputs": [],
   "source": [
    "import pandas as pd\n",
    "import numpy as np\n",
    "\n",
    "tt = pd.read_csv(\"titanic.csv\")"
   ]
  },
  {
   "cell_type": "markdown",
   "metadata": {},
   "source": [
    "Before you start on any of the Panda tools, you will want to examine the dataframe to get an overview of your dataset. "
   ]
  },
  {
   "cell_type": "code",
   "execution_count": 3,
   "metadata": {
    "collapsed": false
   },
   "outputs": [
    {
     "name": "stdout",
     "output_type": "stream",
     "text": [
      "<class 'pandas.core.frame.DataFrame'>\n",
      "RangeIndex: 891 entries, 0 to 890\n",
      "Data columns (total 12 columns):\n",
      "PassengerId    891 non-null int64\n",
      "Survived       891 non-null int64\n",
      "Pclass         891 non-null int64\n",
      "Name           891 non-null object\n",
      "Sex            891 non-null object\n",
      "Age            714 non-null float64\n",
      "SibSp          891 non-null int64\n",
      "Parch          891 non-null int64\n",
      "Ticket         891 non-null object\n",
      "Fare           891 non-null float64\n",
      "Cabin          204 non-null object\n",
      "Embarked       889 non-null object\n",
      "dtypes: float64(2), int64(5), object(5)\n",
      "memory usage: 83.6+ KB\n"
     ]
    },
    {
     "data": {
      "text/html": [
       "<div>\n",
       "<table border=\"1\" class=\"dataframe\">\n",
       "  <thead>\n",
       "    <tr style=\"text-align: right;\">\n",
       "      <th></th>\n",
       "      <th>PassengerId</th>\n",
       "      <th>Survived</th>\n",
       "      <th>Pclass</th>\n",
       "      <th>Name</th>\n",
       "      <th>Sex</th>\n",
       "      <th>Age</th>\n",
       "      <th>SibSp</th>\n",
       "      <th>Parch</th>\n",
       "      <th>Ticket</th>\n",
       "      <th>Fare</th>\n",
       "      <th>Cabin</th>\n",
       "      <th>Embarked</th>\n",
       "    </tr>\n",
       "  </thead>\n",
       "  <tbody>\n",
       "    <tr>\n",
       "      <th>0</th>\n",
       "      <td>1</td>\n",
       "      <td>0</td>\n",
       "      <td>3</td>\n",
       "      <td>Braund, Mr. Owen Harris</td>\n",
       "      <td>male</td>\n",
       "      <td>22.0</td>\n",
       "      <td>1</td>\n",
       "      <td>0</td>\n",
       "      <td>A/5 21171</td>\n",
       "      <td>7.2500</td>\n",
       "      <td>NaN</td>\n",
       "      <td>S</td>\n",
       "    </tr>\n",
       "    <tr>\n",
       "      <th>1</th>\n",
       "      <td>2</td>\n",
       "      <td>1</td>\n",
       "      <td>1</td>\n",
       "      <td>Cumings, Mrs. John Bradley (Florence Briggs Th...</td>\n",
       "      <td>female</td>\n",
       "      <td>38.0</td>\n",
       "      <td>1</td>\n",
       "      <td>0</td>\n",
       "      <td>PC 17599</td>\n",
       "      <td>71.2833</td>\n",
       "      <td>C85</td>\n",
       "      <td>C</td>\n",
       "    </tr>\n",
       "    <tr>\n",
       "      <th>2</th>\n",
       "      <td>3</td>\n",
       "      <td>1</td>\n",
       "      <td>3</td>\n",
       "      <td>Heikkinen, Miss. Laina</td>\n",
       "      <td>female</td>\n",
       "      <td>26.0</td>\n",
       "      <td>0</td>\n",
       "      <td>0</td>\n",
       "      <td>STON/O2. 3101282</td>\n",
       "      <td>7.9250</td>\n",
       "      <td>NaN</td>\n",
       "      <td>S</td>\n",
       "    </tr>\n",
       "    <tr>\n",
       "      <th>3</th>\n",
       "      <td>4</td>\n",
       "      <td>1</td>\n",
       "      <td>1</td>\n",
       "      <td>Futrelle, Mrs. Jacques Heath (Lily May Peel)</td>\n",
       "      <td>female</td>\n",
       "      <td>35.0</td>\n",
       "      <td>1</td>\n",
       "      <td>0</td>\n",
       "      <td>113803</td>\n",
       "      <td>53.1000</td>\n",
       "      <td>C123</td>\n",
       "      <td>S</td>\n",
       "    </tr>\n",
       "    <tr>\n",
       "      <th>4</th>\n",
       "      <td>5</td>\n",
       "      <td>0</td>\n",
       "      <td>3</td>\n",
       "      <td>Allen, Mr. William Henry</td>\n",
       "      <td>male</td>\n",
       "      <td>35.0</td>\n",
       "      <td>0</td>\n",
       "      <td>0</td>\n",
       "      <td>373450</td>\n",
       "      <td>8.0500</td>\n",
       "      <td>NaN</td>\n",
       "      <td>S</td>\n",
       "    </tr>\n",
       "    <tr>\n",
       "      <th>5</th>\n",
       "      <td>6</td>\n",
       "      <td>0</td>\n",
       "      <td>3</td>\n",
       "      <td>Moran, Mr. James</td>\n",
       "      <td>male</td>\n",
       "      <td>NaN</td>\n",
       "      <td>0</td>\n",
       "      <td>0</td>\n",
       "      <td>330877</td>\n",
       "      <td>8.4583</td>\n",
       "      <td>NaN</td>\n",
       "      <td>Q</td>\n",
       "    </tr>\n",
       "  </tbody>\n",
       "</table>\n",
       "</div>"
      ],
      "text/plain": [
       "   PassengerId  Survived  Pclass  \\\n",
       "0            1         0       3   \n",
       "1            2         1       1   \n",
       "2            3         1       3   \n",
       "3            4         1       1   \n",
       "4            5         0       3   \n",
       "5            6         0       3   \n",
       "\n",
       "                                                Name     Sex   Age  SibSp  \\\n",
       "0                            Braund, Mr. Owen Harris    male  22.0      1   \n",
       "1  Cumings, Mrs. John Bradley (Florence Briggs Th...  female  38.0      1   \n",
       "2                             Heikkinen, Miss. Laina  female  26.0      0   \n",
       "3       Futrelle, Mrs. Jacques Heath (Lily May Peel)  female  35.0      1   \n",
       "4                           Allen, Mr. William Henry    male  35.0      0   \n",
       "5                                   Moran, Mr. James    male   NaN      0   \n",
       "\n",
       "   Parch            Ticket     Fare Cabin Embarked  \n",
       "0      0         A/5 21171   7.2500   NaN        S  \n",
       "1      0          PC 17599  71.2833   C85        C  \n",
       "2      0  STON/O2. 3101282   7.9250   NaN        S  \n",
       "3      0            113803  53.1000  C123        S  \n",
       "4      0            373450   8.0500   NaN        S  \n",
       "5      0            330877   8.4583   NaN        Q  "
      ]
     },
     "execution_count": 3,
     "metadata": {},
     "output_type": "execute_result"
    }
   ],
   "source": [
    "# You will notice straight away that although the data set has 891 entries, you have missing values for Age, Cabin \n",
    "# and Embarked. \n",
    "tt.info()\n",
    "tt.head(6)\n",
    "#tt.describe()"
   ]
  },
  {
   "cell_type": "markdown",
   "metadata": {},
   "source": [
    "# #1 Boolean Indexing\n",
    "This disaster is famous as women were given preference to the limited number of lifeboats, with many men giving up their places. Can you confirm this is the case with this data set? Boolean Indexing allows you to filter based on a series of conditions. Comparing the number of male and female survivors with the total proportion for both, the data certainly seems to suggest that the survival rate for women (0.4) was more than double that for men (0.19). \n",
    "\n",
    "Remember that the separate Pandas conditions need to be in brackets and you will use '&' and '|' to combine conditions (a series of boolean values). You can also format the output of \"Survival rate\" using the round() function.\n",
    "\n",
    "Want to find out more about Boolean Indexing? (http://pandas.pydata.org/pandas-docs/stable/indexing.html#boolean-indexing)"
   ]
  },
  {
   "cell_type": "code",
   "execution_count": 4,
   "metadata": {
    "collapsed": false
   },
   "outputs": [
    {
     "name": "stdout",
     "output_type": "stream",
     "text": [
      "Sex           : Male Female\n",
      "Survivors     : 109 233\n",
      "Total         : 577 314\n",
      "Survival rate : 0.19 0.4\n"
     ]
    }
   ],
   "source": [
    "print(\"Sex           :\",\"Male\",\"Female\")\n",
    "print(\"Survivors     :\",len(tt[(tt[\"Survived\"] == 1) & (tt[\"Sex\"] == \"male\")]), \\\n",
    "len(tt[(tt[\"Survived\"] == 1) & (tt[\"Sex\"] == \"female\")]))\n",
    "print(\"Total         :\",len(tt[tt[\"Sex\"] == \"male\"]), len(tt[tt[\"Sex\"] == \"female\"]))\n",
    "print(\"Survival rate :\",round(len(tt[(tt[\"Survived\"] == 1) & (tt[\"Sex\"] == \"male\")]) / \\\n",
    "                              len(tt[tt[\"Sex\"] == \"male\"]),2), \\\n",
    "      round(len(tt[(tt[\"Survived\"] == 1) & (tt[\"Sex\"] == \"female\")]) / len(tt[tt[\"Sex\"] == \"male\"]),2))\n",
    "\n"
   ]
  },
  {
   "cell_type": "markdown",
   "metadata": {},
   "source": [
    "Shockingly, there are also tales that travellers with first class tickets were given preference to the lifeboats than those with third class tickets. Assume that you will only check what class the traveller is in, and not whether they are also male or female. Can you confirm if the data suggests this was the case?  The expected output is given below. Can you modify the code below to confirm this?"
   ]
  },
  {
   "cell_type": "code",
   "execution_count": 5,
   "metadata": {
    "collapsed": false
   },
   "outputs": [
    {
     "name": "stdout",
     "output_type": "stream",
     "text": [
      "Class of travel : 1st 2nd 3rd\n",
      "Survivors       : 136  -   - \n",
      "Total           :  -   -  491\n",
      "Survival rate   :  -  0.47  - \n"
     ]
    }
   ],
   "source": [
    "# The basic framework has been provided. Modify only this cell and confirm you can get the Expected output below. \n",
    "# Remember to use tt.info() / tt.head() above if you want to have an overview of the structure of the data.\n",
    "\n",
    "print(\"Class of travel :\",\"1st\",\"2nd\",\"3rd\")\n",
    "print(\"Survivors       :\",len(tt[(tt[\"Survived\"] == 1) & (tt[\"Pclass\"] == 1)]),\" - \",\" - \")\n",
    "print(\"Total           :\",\" - \",\" - \",len(tt[tt[\"Pclass\"] == 3]))\n",
    "print(\"Survival rate   :\",\" - \", \\\n",
    "      round(len(tt[(tt[\"Survived\"] == 1) & (tt[\"Pclass\"] == 2)]) / len(tt[tt[\"Pclass\"] == 2]),2),\" - \")\n",
    "\n"
   ]
  },
  {
   "cell_type": "raw",
   "metadata": {},
   "source": [
    "Expected result\n",
    "\n",
    "Class of travel : 1st 2nd 3rd\n",
    "Survivors       : 136 87 119\n",
    "Total           : 216 184 491\n",
    "Survival rate   : 0.63 0.47 0.24"
   ]
  },
  {
   "cell_type": "markdown",
   "metadata": {
    "collapsed": false
   },
   "source": [
    "# #2 Dealing with missing values\n",
    "If you remember from the first part of this tutorial, although we had 891 entries, Age, Cabin and Embarked all had some null values. There are a couple of ways you can deal with this.\n",
    "\n",
    "## 2.1 Drop the missing values.\n",
    "We can use Panda's dropna().\n",
    "\n",
    "tt.dropna(axis=0, how='any', thresh=None, subset=None, inplace=False)\n",
    "\n",
    "This will drop any rows with missing values. Clearly this isn't a good idea in this instance because we will reduce the number of passengers in our data set from 891 to 183. Fortunately, Pandas doesn't make any of the changes to your dataframe object until you change the inplace=False flag to True.\n",
    "\n",
    "What instead if we wanted to remove any columns with missing values?  Modify the code in the line below. The original dataset has 12 columns. As Age, Cabin and Embarked all have null values, you should end up with only 9 columns.\n"
   ]
  },
  {
   "cell_type": "code",
   "execution_count": 6,
   "metadata": {
    "collapsed": false
   },
   "outputs": [],
   "source": [
    "# Modify the line below to remove any columns with missing values\n",
    "# tt.dropna()\n",
    "# Modify the line below to set a threshold of 11 non-null values for a row.\n",
    "# tt.dropna()"
   ]
  },
  {
   "cell_type": "markdown",
   "metadata": {},
   "source": [
    "Another option that you have is to set a threshold. So, for example, you can specify that if 11 of a row's 12 fields has a non-null value, you won't drop that row. You are now left with 733 entries from the original 891 - a definite improvement on 183 with dropping any rows with missing values. Modify the line above to confirm this is the case. Dropping missing values isn't a good option here. Let's try another of Panda's options, filling the missing values.\n",
    "\n",
    "## 2.2 Filling the missing values\n",
    "There are many statistical schools of thought on what missing or null values should be replaced with. You already know from tt.describe() that the average(mean) age is 29.69. You can see that the 6th, 18th and 20th entry below have missing values replaced. "
   ]
  },
  {
   "cell_type": "code",
   "execution_count": 7,
   "metadata": {
    "collapsed": false
   },
   "outputs": [
    {
     "data": {
      "text/plain": [
       "0      22.00\n",
       "1      38.00\n",
       "2      26.00\n",
       "3      35.00\n",
       "4      35.00\n",
       "5      29.69\n",
       "6      54.00\n",
       "7       2.00\n",
       "8      27.00\n",
       "9      14.00\n",
       "10      4.00\n",
       "11     58.00\n",
       "12     20.00\n",
       "13     39.00\n",
       "14     14.00\n",
       "15     55.00\n",
       "16      2.00\n",
       "17     29.69\n",
       "18     31.00\n",
       "19     29.69\n",
       "20     35.00\n",
       "21     34.00\n",
       "22     15.00\n",
       "23     28.00\n",
       "24      8.00\n",
       "25     38.00\n",
       "26     29.69\n",
       "27     19.00\n",
       "28     29.69\n",
       "29     29.69\n",
       "       ...  \n",
       "861    21.00\n",
       "862    48.00\n",
       "863    29.69\n",
       "864    24.00\n",
       "865    42.00\n",
       "866    27.00\n",
       "867    31.00\n",
       "868    29.69\n",
       "869     4.00\n",
       "870    26.00\n",
       "871    47.00\n",
       "872    33.00\n",
       "873    47.00\n",
       "874    28.00\n",
       "875    15.00\n",
       "876    20.00\n",
       "877    19.00\n",
       "878    29.69\n",
       "879    56.00\n",
       "880    25.00\n",
       "881    33.00\n",
       "882    22.00\n",
       "883    28.00\n",
       "884    25.00\n",
       "885    39.00\n",
       "886    27.00\n",
       "887    19.00\n",
       "888    29.69\n",
       "889    26.00\n",
       "890    32.00\n",
       "Name: Age, dtype: float64"
      ]
     },
     "execution_count": 7,
     "metadata": {},
     "output_type": "execute_result"
    }
   ],
   "source": [
    "# The mean\n",
    "tt[\"Age\"].fillna(value=29.69)\n",
    "# The median - complete the following line to fill in the missing values with the median age\n",
    "# tt[\"Age\"].fillna(value="
   ]
  },
  {
   "cell_type": "markdown",
   "metadata": {},
   "source": [
    "The median is another good value that we could use. Modify the code above to use the median. \n",
    "(Hint : use tt[\"Age\"].median() to help. You should find null values replaced with the median of 28.0)"
   ]
  },
  {
   "cell_type": "markdown",
   "metadata": {
    "collapsed": true
   },
   "source": [
    "# #3 The Apply function\n",
    "This is one of the most powerful tools available in Pandas. Apply, allows you to either use built in functions or to create your own custom function and then run it on an entire column. What would have been the price of the tickets on the Titanic in today's money? Taking into account inflation, prices have increased by about 106 times. Apply functions can be particularly powerful when we combine them with lambda expressions. \n",
    "What is the simple lambda expression you need to create to determine the fares in today's money?\n",
    "Can you determine what would have been the most expensive ticket in today's money? You should get 54306.90.\n",
    "\n",
    "Try it out in the one-liners below."
   ]
  },
  {
   "cell_type": "code",
   "execution_count": 8,
   "metadata": {
    "collapsed": false
   },
   "outputs": [],
   "source": [
    "# Updating the fares for all the passengers\n",
    "#tt[\"Fare\"].apply(lambda x : 106 * x)\n",
    "# How can you modify the line below to show the highest fare?\n",
    "#tt[\"Fare\"].apply(lambda x : 106 * x)."
   ]
  },
  {
   "cell_type": "markdown",
   "metadata": {},
   "source": [
    "The Titanic set off from Southampton, stopping off at Cherbourg and Queenstown. \n",
    "\n",
    "<img src=\"route.GIF\">\n",
    "<i>Source : http://www.titanicfacts.net/titanic-maiden-voyage.html</i>\n",
    "\n",
    "I don't know about you, but I always struggle with remembering the names of French towns and ports. To help me out, I've written a function, get_full_name(),  that converts the one letter code of the Embarked column to its full name, for all the towns, French or otherwise . Using Panda's apply function, I can then run this throughout the entire column as shown below.  \n",
    "\n",
    "Want to find out more about the Apply function. http://pandas.pydata.org/pandas-docs/stable/generated/pandas.DataFrame.apply.html#pandas.DataFrame.apply"
   ]
  },
  {
   "cell_type": "code",
   "execution_count": 9,
   "metadata": {
    "collapsed": false
   },
   "outputs": [
    {
     "data": {
      "text/plain": [
       "0      Southampton\n",
       "1        Cherbourg\n",
       "2      Southampton\n",
       "3      Southampton\n",
       "4      Southampton\n",
       "5       Queenstown\n",
       "6      Southampton\n",
       "7      Southampton\n",
       "8      Southampton\n",
       "9        Cherbourg\n",
       "10     Southampton\n",
       "11     Southampton\n",
       "12     Southampton\n",
       "13     Southampton\n",
       "14     Southampton\n",
       "15     Southampton\n",
       "16      Queenstown\n",
       "17     Southampton\n",
       "18     Southampton\n",
       "19       Cherbourg\n",
       "20     Southampton\n",
       "21     Southampton\n",
       "22      Queenstown\n",
       "23     Southampton\n",
       "24     Southampton\n",
       "25     Southampton\n",
       "26       Cherbourg\n",
       "27     Southampton\n",
       "28      Queenstown\n",
       "29     Southampton\n",
       "          ...     \n",
       "861    Southampton\n",
       "862    Southampton\n",
       "863    Southampton\n",
       "864    Southampton\n",
       "865    Southampton\n",
       "866      Cherbourg\n",
       "867    Southampton\n",
       "868    Southampton\n",
       "869    Southampton\n",
       "870    Southampton\n",
       "871    Southampton\n",
       "872    Southampton\n",
       "873    Southampton\n",
       "874      Cherbourg\n",
       "875      Cherbourg\n",
       "876    Southampton\n",
       "877    Southampton\n",
       "878    Southampton\n",
       "879      Cherbourg\n",
       "880    Southampton\n",
       "881    Southampton\n",
       "882    Southampton\n",
       "883    Southampton\n",
       "884    Southampton\n",
       "885     Queenstown\n",
       "886    Southampton\n",
       "887    Southampton\n",
       "888    Southampton\n",
       "889      Cherbourg\n",
       "890     Queenstown\n",
       "Name: Embarked, dtype: object"
      ]
     },
     "execution_count": 9,
     "metadata": {},
     "output_type": "execute_result"
    }
   ],
   "source": [
    "def get_full_name(x):\n",
    "    if (x == \"S\"):\n",
    "        return \"Southampton\"\n",
    "    elif ( x == \"C\"):\n",
    "        return \"Cherbourg\"\n",
    "    elif ( x == \"Q\"):\n",
    "        return \"Queenstown\"\n",
    "\n",
    "tt[\"Embarked\"].apply(get_full_name)        "
   ]
  },
  {
   "cell_type": "markdown",
   "metadata": {},
   "source": [
    "I hope you have had fun exploring this data set. These are the top 3 Panda tips I recommend every Data Scientist has in their tool kit. Let me know in the comments section below if you think another Panda tool should have made the list."
   ]
  }
 ],
 "metadata": {
  "anaconda-cloud": {},
  "kernelspec": {
   "display_name": "Python [Root]",
   "language": "python",
   "name": "Python [Root]"
  },
  "language_info": {
   "codemirror_mode": {
    "name": "ipython",
    "version": 3
   },
   "file_extension": ".py",
   "mimetype": "text/x-python",
   "name": "python",
   "nbconvert_exporter": "python",
   "pygments_lexer": "ipython3",
   "version": "3.5.2"
  }
 },
 "nbformat": 4,
 "nbformat_minor": 0
}
